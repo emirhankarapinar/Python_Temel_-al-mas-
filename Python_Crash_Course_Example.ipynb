{
  "cells": [
    {
      "cell_type": "markdown",
      "source": [
        "Python Crash Course"
      ],
      "metadata": {
        "id": "1TSl4HoP8FU8"
      }
    },
    {
      "cell_type": "markdown",
      "source": [
        "# Ödev"
      ],
      "metadata": {
        "id": "kVd6U8hokuGQ"
      }
    },
    {
      "cell_type": "markdown",
      "source": [
        "                                                     P1"
      ],
      "metadata": {
        "id": "2J7-GQAj8K7E"
      }
    },
    {
      "cell_type": "code",
      "source": [
        "#liste\n",
        "listem=['a','b','c']\n",
        "listem.append('f') #listeye eleman ekleme\n",
        "print(listem) #listeyi yazdırma işlemi\n",
        "print(listem[1:4]) #listedeki elemanları indexine göre yazdırma"
      ],
      "metadata": {
        "id": "dHzzdW8Y8GwP",
        "outputId": "e87db179-3c69-4b91-b207-d9161475bdf0",
        "colab": {
          "base_uri": "https://localhost:8080/"
        }
      },
      "execution_count": null,
      "outputs": [
        {
          "output_type": "stream",
          "name": "stdout",
          "text": [
            "['a', 'b', 'c', 'f']\n",
            "['b', 'c', 'f']\n"
          ]
        }
      ]
    },
    {
      "cell_type": "markdown",
      "source": [
        "                                                             P2"
      ],
      "metadata": {
        "id": "iEZPl4ewABDv"
      }
    },
    {
      "cell_type": "code",
      "source": [
        "#sözlük yapısı\n",
        "ben = {\n",
        "    'name': 'Emirhan',\n",
        "    'age': 24,\n",
        "    'job': 'MIS',\n",
        "    'hobbies': ['basketball', 'game', 'coding'] #iç içe veri\n",
        "}\n",
        "# sözlükten veri çekme\n",
        "print(\"İsim\",ben['name'])\n",
        "print(\"Yaşı:\", ben['age'])\n",
        "print(\"Bölümü:\", ben['job'])\n",
        "# sözlükte iç içe olan verileri çekme\n",
        "print(\"Hobileri:\", ben['hobbies'])"
      ],
      "metadata": {
        "id": "CrBpdxqR8ERP",
        "outputId": "2db730ac-3358-4adb-97af-ede86c9a8da6",
        "colab": {
          "base_uri": "https://localhost:8080/"
        }
      },
      "execution_count": null,
      "outputs": [
        {
          "output_type": "stream",
          "name": "stdout",
          "text": [
            "İsim Emirhan\n",
            "Yaşı: 24\n",
            "Bölümü: MIS\n",
            "Hobileri: ['basketball', 'game', 'coding']\n"
          ]
        }
      ]
    },
    {
      "cell_type": "markdown",
      "source": [
        "                                                            P3"
      ],
      "metadata": {
        "id": "uOp60sikAUjX"
      }
    },
    {
      "cell_type": "code",
      "source": [
        "#for döngüsü\n",
        "liste=[1,2,3,4]\n",
        "for item in liste:\n",
        " print(item)       # burada listedeki elemanları sırayla yazdırdı"
      ],
      "metadata": {
        "id": "eY9zJf7uAYUS",
        "outputId": "6f60481a-a7d5-41b5-cdbc-59d3f23bc274",
        "colab": {
          "base_uri": "https://localhost:8080/"
        }
      },
      "execution_count": null,
      "outputs": [
        {
          "output_type": "stream",
          "name": "stdout",
          "text": [
            "1\n",
            "2\n",
            "3\n",
            "4\n"
          ]
        }
      ]
    },
    {
      "cell_type": "code",
      "source": [
        "# for döngüsü ile range\n",
        "for uzunluk in range(0,2): #0 dan başlayara 2 dahil olmayacak şekilde yazdır\n",
        "  print(uzunluk)"
      ],
      "metadata": {
        "id": "sZjtM738DLO-",
        "outputId": "50a23a75-36cf-4aba-d81c-1e20eff81841",
        "colab": {
          "base_uri": "https://localhost:8080/"
        }
      },
      "execution_count": null,
      "outputs": [
        {
          "output_type": "stream",
          "name": "stdout",
          "text": [
            "0\n",
            "1\n"
          ]
        }
      ]
    },
    {
      "cell_type": "code",
      "source": [
        "# for döngüsü range örneği\n",
        "for uzunluk in range(0,12,2): #0 dan başlayara 12 dahil olmayacak şekilde 2şer 2 şer yazdır\n",
        "  print(uzunluk)"
      ],
      "metadata": {
        "id": "JNVuMxTODW4-",
        "outputId": "8d5842c0-ee38-42d0-c06d-55af0158611b",
        "colab": {
          "base_uri": "https://localhost:8080/"
        }
      },
      "execution_count": null,
      "outputs": [
        {
          "output_type": "stream",
          "name": "stdout",
          "text": [
            "0\n",
            "2\n",
            "4\n",
            "6\n",
            "8\n",
            "10\n"
          ]
        }
      ]
    },
    {
      "cell_type": "code",
      "source": [
        "#while\n",
        "sayı=0\n",
        "\n",
        "while sayı < 9:            # Buradaı while döngüsünde belirlediğimiz sayıdan 8 e kadar her aşamada 1 ekleyecek şekilde yazdırdık\n",
        "  print(sayı)              # eğer bu döngü sonsuza kadar devam etseydi \"break\" komutu ile çıkmak zorunda kalırdık\n",
        "  sayı +=1"
      ],
      "metadata": {
        "id": "zpXIsgoaDj3C",
        "outputId": "7b23c341-a4cf-46d0-e027-8615e83215fe",
        "colab": {
          "base_uri": "https://localhost:8080/"
        }
      },
      "execution_count": null,
      "outputs": [
        {
          "output_type": "stream",
          "name": "stdout",
          "text": [
            "0\n",
            "1\n",
            "2\n",
            "3\n",
            "4\n",
            "5\n",
            "6\n",
            "7\n",
            "8\n"
          ]
        }
      ]
    },
    {
      "cell_type": "code",
      "source": [
        "# fonksiyonlar\n",
        "# kullanıcıdan istenen sayıları çift ve tek sayı setlerine ekleme\n",
        "\n",
        "def  denetle(sayilar):\n",
        "  ciftsayilar = set()              #çift set sayılar kümemiz\n",
        "  teksayilar = set()               #tek set sayılar kümemiz\n",
        "\n",
        "  for sayi in sayilar:\n",
        "    if sayi % 2 == 0:                 #burada koşullu olarak çift veya tek olduğunu buluyoruz\n",
        "     ciftsayilar.add(sayi)\n",
        "    else:\n",
        "     teksayilar.add(sayi)\n",
        "\n",
        "  return ciftsayilar, teksayilar\n",
        "\n",
        "#kullanıcıdan aldığımız girdileri sete çevirme\n",
        "iste = input(\"lütfen sayılarınızı virgül ile girin\")\n",
        "setsayilari = set(map(int, iste.split(',')))\n",
        "\n",
        "cift, tek = denetle(setsayilari)        #fonksiyonumuzu çağırıyoruz\n",
        "\n",
        "print(\"Çift sayılar:\",cift)\n",
        "print(\"Tek sayılar:\",tek)\n",
        "\n",
        "\n"
      ],
      "metadata": {
        "id": "jtMwgj8BEXIC",
        "outputId": "6fd03365-f934-4c69-afe7-08cb544fd0a1",
        "colab": {
          "base_uri": "https://localhost:8080/"
        }
      },
      "execution_count": null,
      "outputs": [
        {
          "output_type": "stream",
          "name": "stdout",
          "text": [
            "lütfen sayılarınızı virgül ile girin2,3,4,5,6,7\n",
            "Çift sayılar: {2, 4, 6}\n",
            "Tek sayılar: {3, 5, 7}\n"
          ]
        }
      ]
    },
    {
      "cell_type": "markdown",
      "source": [
        "                                                     \n",
        "                                                      P4"
      ],
      "metadata": {
        "id": "P-YLKPXWTnQ6"
      }
    },
    {
      "cell_type": "code",
      "source": [
        "# fonksiyonlar\n",
        "# map\n",
        "def carp (var):\n",
        "  return var * 3            # burada listemizdeki sayıların her birini 3 ile çarpmak için bir işlem yapıyoruz\n",
        "\n",
        "a=[1,2,3,4,5,6]\n",
        "\n",
        "b=list(map(carp,a))         # map komutu sayesinde carp fonksiyonu ve a isimli listemize fonksiyonumuzu uyguluyoruz.\n",
        "print(b)"
      ],
      "metadata": {
        "id": "1LrjSu4iTqfY",
        "outputId": "1c79cc22-989d-41cb-983e-f739cc96eb24",
        "colab": {
          "base_uri": "https://localhost:8080/"
        }
      },
      "execution_count": null,
      "outputs": [
        {
          "output_type": "stream",
          "name": "stdout",
          "text": [
            "[3, 6, 9, 12, 15, 18]\n"
          ]
        }
      ]
    },
    {
      "cell_type": "code",
      "source": [
        "# Tek sayıları filtrelemek için lambda fonksiyonu\n",
        "sayilar = [1, 2, 3, 4, 5]\n",
        "\n",
        "tek_sayilar = filter(lambda x: x % 2 != 0, sayilar)   # Lambda fonksiyonunu filter() ile kullanma\n",
        "\n",
        "print(list(tek_sayilar))"
      ],
      "metadata": {
        "id": "mXN0PVhlYL_d",
        "outputId": "01c60422-7e64-47e6-d3dc-fe4d1d5301bd",
        "colab": {
          "base_uri": "https://localhost:8080/"
        }
      },
      "execution_count": null,
      "outputs": [
        {
          "output_type": "stream",
          "name": "stdout",
          "text": [
            "[1, 3, 5]\n"
          ]
        }
      ]
    },
    {
      "cell_type": "code",
      "source": [
        "# String methodları\n",
        "metin = \"Python, Java, C++, JavaScript\"\n",
        "\n",
        "\n",
        "kucuk_harfler = metin.lower() # Tüm harfleri küçük harfe çevirir eğer .upper yaparsak büyük harf yapacaktı\n",
        "\n",
        "\n",
        "diller = kucuk_harfler.split(\", \") # Küçük harflere çevrilmiş kelimeleri string'i virgüllerle böler\n",
        "\n",
        "print(\"Küçük harfler ve ayrılmış diller:\", diller)"
      ],
      "metadata": {
        "id": "oKJpsAS6ZyXL",
        "outputId": "7434799a-c401-441e-b6e5-7098e4a25367",
        "colab": {
          "base_uri": "https://localhost:8080/"
        }
      },
      "execution_count": null,
      "outputs": [
        {
          "output_type": "stream",
          "name": "stdout",
          "text": [
            "Küçük harfler ve ayrılmış diller: ['python', 'java', 'c++', 'javascript']\n"
          ]
        }
      ]
    },
    {
      "cell_type": "code",
      "source": [
        "# sözlük\n",
        "sozluk = {\n",
        "    'ad': 'Emirhan',\n",
        "    'yas': 24,\n",
        "    'sehir': 'İstanbul'\n",
        "}\n",
        "\n",
        "\n",
        "anahtarlar = list(sozluk.keys())       # Anahtar kelimeleri listeye çevirme\n",
        "\n",
        "\n",
        "degerler = list(sozluk.values())       # Anahtar kelimelere karşılık gelen kelimeleri yani değerleri listeye çevirme\n",
        "\n",
        "\n",
        "anahtar_degerler = list(sozluk.items()) # Anahtar kelimelere karşılık gelen değerleri bir çift olarak listeye çevirme\n",
        "\n",
        "print(\"Anahtarlar:\", anahtarlar)\n",
        "print(\"Değerler:\", degerler)\n",
        "print(\"Anahtar-Değer Çiftleri:\", anahtar_degerler)"
      ],
      "metadata": {
        "id": "rhPYvHGLb384",
        "outputId": "b4a92876-6257-4685-efcc-d27922b4f9df",
        "colab": {
          "base_uri": "https://localhost:8080/"
        }
      },
      "execution_count": null,
      "outputs": [
        {
          "output_type": "stream",
          "name": "stdout",
          "text": [
            "Anahtarlar: ['ad', 'yas', 'sehir']\n",
            "Değerler: ['Emirhan', 24, 'İstanbul']\n",
            "Anahtar-Değer Çiftleri: [('ad', 'Emirhan'), ('yas', 24), ('sehir', 'İstanbul')]\n"
          ]
        }
      ]
    },
    {
      "cell_type": "code",
      "source": [
        "#list\n",
        "\n",
        "sayilar = []\n",
        "\n",
        "# Listemize  eleman eklemek\n",
        "sayilar.append(10)\n",
        "sayilar.append(20)\n",
        "sayilar.append(30)\n",
        "\n",
        "\n",
        "son_sayi = sayilar.pop() # Listemizdeki son elemanı çıkardık\n",
        "\n",
        "print(\"Çıkarılan sayı:\", son_sayi)\n",
        "print(\"Çıkarma işlemi sonrası liste:\", sayilar)  # [10, 20]\n",
        "\n",
        "\n",
        "ilk_sayi = sayilar.pop(0) # index belirterek indexdeki elemanı çıkarttık\n",
        "\n",
        "print(\"Çıkarılan sayı:\", ilk_sayi)\n",
        "print(\"Çıkarma işlemi sonrası liste:\", sayilar)"
      ],
      "metadata": {
        "id": "ad24tatocvsr",
        "outputId": "b199db7c-a82f-4703-a792-f211ec83ae81",
        "colab": {
          "base_uri": "https://localhost:8080/"
        }
      },
      "execution_count": null,
      "outputs": [
        {
          "output_type": "stream",
          "name": "stdout",
          "text": [
            "Çıkarılan sayı: 30\n",
            "Çıkarma işlemi sonrası liste: [10, 20]\n",
            "Çıkarılan sayı: 10\n",
            "Çıkarma işlemi sonrası liste: [20]\n"
          ]
        }
      ]
    },
    {
      "cell_type": "markdown",
      "source": [
        "NUMPY"
      ],
      "metadata": {
        "id": "H5xbDLNY_jzY"
      }
    },
    {
      "cell_type": "code",
      "source": [
        "import numpy as np\n",
        "\n",
        "vektor = np.arange(1, 16) # bu komutla 1 den 10 a kadar sayıları sıralıyoruz 10 hariç\n",
        "\n",
        "\n",
        "sifir_matris = np.zeros((3, 4)) # zeros komutu ile sıfırlardan oluşan 3 x 4 matris oluşturuyoruz\n",
        "\n",
        "\n",
        "matris = np.array([[2,4,6], [1,3,5], [7,8,9],[11,13,14],[20,26,28]]) # array ile girdiğimiz değerlerle 3 x 3 matris oluşturuyoruz\n",
        "\n",
        "\n",
        "vektor_reshape = vektor.reshape((5, 3)) # Yukarıda tanımladığımız Vektörü yeniden şekillendirerek 3 x 5 matrise çeviriyoruz\n",
        "\n",
        "\n",
        "toplam_matris = matris + vektor_reshape # İki matris toplamı (matris + vektor_reshape)\n",
        "\n",
        "\n",
        "carpim_matris = matris * vektor_reshape # İki matris çarpımı (eleman bazında çarpım)\n",
        "\n",
        "\n",
        "sifirmatris = sifir_matris + 7 # Sıfır matrisindeki ger bir elemana 7 ekleme\n",
        "\n",
        "# Sonuçları ekrana yazdır\n",
        "print(\"Vektör (arange ile):\")\n",
        "print(vektor)\n",
        "\n",
        "print(\"\\nZeros ile matris:\")\n",
        "print(sifir_matris)\n",
        "\n",
        "print(\"\\nİlk Matris (array ile):\")\n",
        "print(matris)\n",
        "\n",
        "print(\"\\nYeniden Şekillendirilmiş Vektör (3x3 matris):\")\n",
        "print(vektor_reshape)\n",
        "\n",
        "print(\"\\nMatris Toplamı (matris + vektor_reshape):\")\n",
        "print(toplam_matris)\n",
        "\n",
        "print(\"\\nMatris Çarpımı (matris * vektor_reshape):\")\n",
        "print(carpim_matris)\n",
        "\n",
        "print(\"\\nGüncellenmiş Sıfır Matrisi (zeros + 5):\")\n",
        "print(sifirmatris)"
      ],
      "metadata": {
        "id": "r96SyRdieuLF",
        "colab": {
          "base_uri": "https://localhost:8080/"
        },
        "outputId": "43cb055f-ba05-479f-db63-26e1e106d3c4"
      },
      "execution_count": null,
      "outputs": [
        {
          "output_type": "stream",
          "name": "stdout",
          "text": [
            "Vektör (arange ile):\n",
            "[ 1  2  3  4  5  6  7  8  9 10 11 12 13 14 15]\n",
            "\n",
            "Zeros ile matris:\n",
            "[[0. 0. 0. 0.]\n",
            " [0. 0. 0. 0.]\n",
            " [0. 0. 0. 0.]]\n",
            "\n",
            "İlk Matris (array ile):\n",
            "[[ 2  4  6]\n",
            " [ 1  3  5]\n",
            " [ 7  8  9]\n",
            " [11 13 14]\n",
            " [20 26 28]]\n",
            "\n",
            "Yeniden Şekillendirilmiş Vektör (3x3 matris):\n",
            "[[ 1  2  3]\n",
            " [ 4  5  6]\n",
            " [ 7  8  9]\n",
            " [10 11 12]\n",
            " [13 14 15]]\n",
            "\n",
            "Matris Toplamı (matris + vektor_reshape):\n",
            "[[ 3  6  9]\n",
            " [ 5  8 11]\n",
            " [14 16 18]\n",
            " [21 24 26]\n",
            " [33 40 43]]\n",
            "\n",
            "Matris Çarpımı (matris * vektor_reshape):\n",
            "[[  2   8  18]\n",
            " [  4  15  30]\n",
            " [ 49  64  81]\n",
            " [110 143 168]\n",
            " [260 364 420]]\n",
            "\n",
            "Güncellenmiş Sıfır Matrisi (zeros + 5):\n",
            "[[7. 7. 7. 7.]\n",
            " [7. 7. 7. 7.]\n",
            " [7. 7. 7. 7.]]\n"
          ]
        }
      ]
    },
    {
      "cell_type": "code",
      "source": [
        "import numpy as np\n",
        "\n",
        "ones_matris = np.ones((4, 4)) # sadece 1 den oluşan ile 4x4'lük bir matris oluşturduk\n",
        "\n",
        "\n",
        "linspace_dizi = np.linspace(0, 26, 6) # 0 ile 10 arasında eşit aralıklı 6 sayı oluştur\n",
        "\n",
        "\n",
        "eye_matris = np.eye(6) # köşegenleri 1 den ve diğer elemanları 0 dan oluşan 6x6'lük bir birim matris oluştuurduk\n",
        "\n",
        "\n",
        "random_matris = np.random.random((3, 4)) # 3x4 matris boyutunda rastgele sayılardan oluşan bir matris oluştur\n",
        "\n",
        "\n",
        "reshaped_ones = ones_matris.reshape((1, 16)) # ones_matris'ini (4x4) boyutundan 1x16 boyutuna yeniden şekillendir\n",
        "\n",
        "# shape özelliği ile tüm matrislerin boyutlarını öğrenelim\n",
        "ones_shape = ones_matris.shape\n",
        "linspace_shape = linspace_dizi.shape\n",
        "eye_shape = eye_matris.shape\n",
        "random_shape = random_matris.shape\n",
        "reshaped_ones_shape = reshaped_ones.shape\n",
        "\n",
        "\n",
        "print(\"Ones Matrisi (3x3):\")\n",
        "print(ones_matris)\n",
        "print(\"\\nOnes Matrisinin Boyutu:\", ones_shape)\n",
        "\n",
        "print(\"\\nLinspace Dizisi (0 ile 10 arasında 6 sayı):\")\n",
        "print(linspace_dizi)\n",
        "print(\"\\nLinspace Dizisinin Boyutu:\", linspace_shape)\n",
        "\n",
        "print(\"\\nBirim Matris (eye):\")\n",
        "print(eye_matris)\n",
        "print(\"\\nBirim Matrisin Boyutu:\", eye_shape)\n",
        "\n",
        "print(\"\\nRastgele Sayılarla Oluşturulmuş Matris (2x3):\")\n",
        "print(random_matris)\n",
        "print(\"\\nRastgele Matrisin Boyutu:\", random_shape)\n",
        "\n",
        "print(\"\\nYeniden Şekillendirilmiş Ones Matrisi (1x9):\")\n",
        "print(reshaped_ones)\n",
        "print(\"\\nYeniden Şekillendirilmiş Ones Matrisinin Boyutu:\", reshaped_ones_shape)"
      ],
      "metadata": {
        "colab": {
          "base_uri": "https://localhost:8080/"
        },
        "id": "PmBGIw0oFWlc",
        "outputId": "baa6eebe-0db4-4fb4-b15b-713010550105"
      },
      "execution_count": null,
      "outputs": [
        {
          "output_type": "stream",
          "name": "stdout",
          "text": [
            "Ones Matrisi (3x3):\n",
            "[[1. 1. 1. 1.]\n",
            " [1. 1. 1. 1.]\n",
            " [1. 1. 1. 1.]\n",
            " [1. 1. 1. 1.]]\n",
            "\n",
            "Ones Matrisinin Boyutu: (4, 4)\n",
            "\n",
            "Linspace Dizisi (0 ile 10 arasında 6 sayı):\n",
            "[ 0.   5.2 10.4 15.6 20.8 26. ]\n",
            "\n",
            "Linspace Dizisinin Boyutu: (6,)\n",
            "\n",
            "Birim Matris (eye):\n",
            "[[1. 0. 0. 0. 0. 0.]\n",
            " [0. 1. 0. 0. 0. 0.]\n",
            " [0. 0. 1. 0. 0. 0.]\n",
            " [0. 0. 0. 1. 0. 0.]\n",
            " [0. 0. 0. 0. 1. 0.]\n",
            " [0. 0. 0. 0. 0. 1.]]\n",
            "\n",
            "Birim Matrisin Boyutu: (6, 6)\n",
            "\n",
            "Rastgele Sayılarla Oluşturulmuş Matris (2x3):\n",
            "[[0.24044628 0.30687321 0.82138927 0.71043579]\n",
            " [0.67933717 0.92496982 0.14025083 0.92375392]\n",
            " [0.42132251 0.79710045 0.11184785 0.96639256]]\n",
            "\n",
            "Rastgele Matrisin Boyutu: (3, 4)\n",
            "\n",
            "Yeniden Şekillendirilmiş Ones Matrisi (1x9):\n",
            "[[1. 1. 1. 1. 1. 1. 1. 1. 1. 1. 1. 1. 1. 1. 1. 1.]]\n",
            "\n",
            "Yeniden Şekillendirilmiş Ones Matrisinin Boyutu: (1, 16)\n"
          ]
        }
      ]
    },
    {
      "cell_type": "markdown",
      "source": [
        "Numpy Operasyonları"
      ],
      "metadata": {
        "id": "CkM8ftB4TJVA"
      }
    },
    {
      "cell_type": "code",
      "source": [
        "import numpy as np\n",
        "\n",
        "\n",
        "dizi = np.arange(1, 20) # 1 ile 19 arasında sayılar içeren bir dizi oluşturalım\n",
        "\n",
        "karekokler = np.sqrt(dizi) # dizinin kareköklerini alalım\n",
        "\n",
        "ussel = np.exp(dizi) # dizinin her bir elemanının üssünü alalım (e^x)\n",
        "\n",
        "maksimum = np.max(dizi) # dizinin içindeki en büyük değeri bulalım\n",
        "\n",
        "sinus = np.sin(dizi) # dizinin her bir elemanının sinüsünü hesaplayalım\n",
        "\n",
        "logaritma = np.log(dizi) # dizinin logaritmasını alalım\n",
        "\n",
        "\n",
        "print(\"Orijinal Dizi:\")\n",
        "print(dizi)\n",
        "\n",
        "print(\"\\nDizinin Karekökleri (sqrt):\")\n",
        "print(karekokler)\n",
        "\n",
        "print(\"\\nDizinin Üssel Değerleri (exp):\")\n",
        "print(ussel)\n",
        "\n",
        "print(\"\\nDizideki En Büyük Değer (max):\")\n",
        "print(maksimum)\n",
        "\n",
        "print(\"\\nDizinin Sinüs Değerleri (sin):\")\n",
        "print(sinus)\n",
        "\n",
        "print(\"\\nDizinin Doğal Logaritmaları (log):\")\n",
        "print(logaritma)"
      ],
      "metadata": {
        "colab": {
          "base_uri": "https://localhost:8080/"
        },
        "id": "seg6IaApNJSd",
        "outputId": "a85d8b27-2931-452f-db33-ecdd8a42d4fd"
      },
      "execution_count": null,
      "outputs": [
        {
          "output_type": "stream",
          "name": "stdout",
          "text": [
            "Orijinal Dizi:\n",
            "[ 1  2  3  4  5  6  7  8  9 10 11 12 13 14 15 16 17 18 19]\n",
            "\n",
            "Dizinin Karekökleri (sqrt):\n",
            "[1.         1.41421356 1.73205081 2.         2.23606798 2.44948974\n",
            " 2.64575131 2.82842712 3.         3.16227766 3.31662479 3.46410162\n",
            " 3.60555128 3.74165739 3.87298335 4.         4.12310563 4.24264069\n",
            " 4.35889894]\n",
            "\n",
            "Dizinin Üssel Değerleri (exp):\n",
            "[2.71828183e+00 7.38905610e+00 2.00855369e+01 5.45981500e+01\n",
            " 1.48413159e+02 4.03428793e+02 1.09663316e+03 2.98095799e+03\n",
            " 8.10308393e+03 2.20264658e+04 5.98741417e+04 1.62754791e+05\n",
            " 4.42413392e+05 1.20260428e+06 3.26901737e+06 8.88611052e+06\n",
            " 2.41549528e+07 6.56599691e+07 1.78482301e+08]\n",
            "\n",
            "Dizideki En Büyük Değer (max):\n",
            "19\n",
            "\n",
            "Dizinin Sinüs Değerleri (sin):\n",
            "[ 0.84147098  0.90929743  0.14112001 -0.7568025  -0.95892427 -0.2794155\n",
            "  0.6569866   0.98935825  0.41211849 -0.54402111 -0.99999021 -0.53657292\n",
            "  0.42016704  0.99060736  0.65028784 -0.28790332 -0.96139749 -0.75098725\n",
            "  0.14987721]\n",
            "\n",
            "Dizinin Doğal Logaritmaları (log):\n",
            "[0.         0.69314718 1.09861229 1.38629436 1.60943791 1.79175947\n",
            " 1.94591015 2.07944154 2.19722458 2.30258509 2.39789527 2.48490665\n",
            " 2.56494936 2.63905733 2.7080502  2.77258872 2.83321334 2.89037176\n",
            " 2.94443898]\n"
          ]
        }
      ]
    },
    {
      "cell_type": "markdown",
      "source": [
        "Pandas"
      ],
      "metadata": {
        "id": "TeybNLS3d-N0"
      }
    },
    {
      "cell_type": "code",
      "source": [
        "import pandas as pd\n",
        "\n",
        "# DataFrame oluşturma (ürün, fiyat, stok, satış)\n",
        "data = {\n",
        "    'ürün': ['Laptop', 'Telefon', 'Tablet', 'Monitor', 'Kulaklık'],\n",
        "    'fiyat': [1200, 800, 300, 250, 100],\n",
        "    'Stock': [30, 50, 100, 20, 150],\n",
        "    'satıs': [10, 40, 30, 15, 50]\n",
        "}\n",
        "\n",
        "df = pd.DataFrame(data)\n",
        "\n",
        "\n",
        "df.set_index('ürün', inplace=True) # ürün ismine göre ındex belirleme\n",
        "\n",
        "# 3. Yeni bir kolon ekleme (Toplam Gelir = fiyat * satış)\n",
        "df['Toplam Gelir'] = df['fiyat'] * df['satıs']\n",
        "\n",
        "# 4. Koşullu seçim: Fiyatı 500'den büyük olan ürünleri seçme\n",
        "high_priced_products = df[df['fiyat'] > 1000]\n",
        "\n",
        "# 5. Yeni bir index oluşturma: 'Stock' kolonuna göre sıralama\n",
        "df_sorted_by_stock = df.set_index('Stock')\n",
        "\n",
        "# 6. Cross-section: Satış miktarına göre belirli bir ürünün verilerine ulaşma\n",
        "sales_cross_section = df.xs('Laptop')\n",
        "\n",
        "# Sonuçları yazdıralım\n",
        "print(\"DataFrame:\")\n",
        "print(df)\n",
        "\n",
        "print(\"\\nFiyatı 1000'den büyük olan ürünler:\")\n",
        "print(high_priced_products)\n",
        "\n",
        "print(\"\\nStok miktarına göre yeniden indekslenmiş DataFrame:\")\n",
        "print(df_sorted_by_stock)\n",
        "\n",
        "print(\"\\nLaptop ürününün cross-section verisi:\")\n",
        "print(sales_cross_section)"
      ],
      "metadata": {
        "colab": {
          "base_uri": "https://localhost:8080/"
        },
        "id": "k3KPUwuGTGn_",
        "outputId": "fe7b6d0d-eb70-4c03-c4a3-e4628877f03c"
      },
      "execution_count": null,
      "outputs": [
        {
          "output_type": "stream",
          "name": "stdout",
          "text": [
            "DataFrame:\n",
            "          fiyat  Stock  satıs  Toplam Gelir\n",
            "ürün                                       \n",
            "Laptop     1200     30     10         12000\n",
            "Telefon     800     50     40         32000\n",
            "Tablet      300    100     30          9000\n",
            "Monitor     250     20     15          3750\n",
            "Kulaklık    100    150     50          5000\n",
            "\n",
            "Fiyatı 1000'den büyük olan ürünler:\n",
            "        fiyat  Stock  satıs  Toplam Gelir\n",
            "ürün                                     \n",
            "Laptop   1200     30     10         12000\n",
            "\n",
            "Stok miktarına göre yeniden indekslenmiş DataFrame:\n",
            "       fiyat  satıs  Toplam Gelir\n",
            "Stock                            \n",
            "30      1200     10         12000\n",
            "50       800     40         32000\n",
            "100      300     30          9000\n",
            "20       250     15          3750\n",
            "150      100     50          5000\n",
            "\n",
            "Laptop ürününün cross-section verisi:\n",
            "fiyat            1200\n",
            "Stock              30\n",
            "satıs              10\n",
            "Toplam Gelir    12000\n",
            "Name: Laptop, dtype: int64\n"
          ]
        }
      ]
    },
    {
      "cell_type": "markdown",
      "source": [
        "pandas will auto fill the missing value with null or Nan value"
      ],
      "metadata": {
        "id": "wTBfxbuxi-f-"
      }
    },
    {
      "cell_type": "code",
      "source": [
        "import pandas as pd\n",
        "import numpy as np\n",
        "\n",
        "# Eksik verilerle bir DataFrame oluşturalım\n",
        "data = {\n",
        "    'ürün': ['Laptop', 'Telefon', 'Tablet', 'Monitor', 'Kulaklık'],\n",
        "    'fiyat': [1200, 800,np.nan, 300, 250],\n",
        "    'Stock': [30,np.nan, 50, 100, 20],\n",
        "    'satıs': [10, 40, 30,np.nan, 15]\n",
        "}\n",
        "\n",
        "df = pd.DataFrame(data)\n",
        "\n",
        "print(\"Orijinal DataFrame (Eksik Değerlerle):\")\n",
        "print(df)\n",
        "\n",
        "# Eksik fiyatı 0 ile, eksik stok ve satış miktarlarını ortalama ile dolduralım\n",
        "df_filled = df.copy()                          # Asıl veriyi değiştirmemek için kopyasını alıyoruz\n",
        "df_filled['fiyat'].fillna(0, inplace=True)                    # Eksik fiyatları 0 ile doldur\n",
        "df_filled['Stock'].fillna(df['Stock'].mean(), inplace=True)  # Eksik stokları ortalama ile doldur\n",
        "df_filled['satıs'].fillna(df['satıs'].mean(), inplace=True)  # Eksik satışları ortalama ile doldur\n",
        "\n",
        "print(\" eksik değerler dolduruldu:\")\n",
        "print(df_filled)\n",
        "\n",
        "df_dropped = df.dropna() # NaN değerleri içeren satırları silelim\n",
        "\n",
        "print(\"NaN içeren satırlar sildik:\")\n",
        "print(df_dropped)\n"
      ],
      "metadata": {
        "colab": {
          "base_uri": "https://localhost:8080/"
        },
        "id": "qIYYkpbKiClJ",
        "outputId": "3ffd18f7-2639-4722-c581-f20f44bca84f"
      },
      "execution_count": null,
      "outputs": [
        {
          "output_type": "stream",
          "name": "stdout",
          "text": [
            "Orijinal DataFrame (Eksik Değerlerle):\n",
            "       ürün   fiyat  Stock  satıs\n",
            "0    Laptop  1200.0   30.0   10.0\n",
            "1   Telefon   800.0    NaN   40.0\n",
            "2    Tablet     NaN   50.0   30.0\n",
            "3   Monitor   300.0  100.0    NaN\n",
            "4  Kulaklık   250.0   20.0   15.0\n",
            " eksik değerler dolduruldu:\n",
            "       ürün   fiyat  Stock  satıs\n",
            "0    Laptop  1200.0   30.0  10.00\n",
            "1   Telefon   800.0   50.0  40.00\n",
            "2    Tablet     0.0   50.0  30.00\n",
            "3   Monitor   300.0  100.0  23.75\n",
            "4  Kulaklık   250.0   20.0  15.00\n",
            "NaN içeren satırlar sildik:\n",
            "       ürün   fiyat  Stock  satıs\n",
            "0    Laptop  1200.0   30.0   10.0\n",
            "4  Kulaklık   250.0   20.0   15.0\n"
          ]
        }
      ]
    },
    {
      "cell_type": "markdown",
      "source": [
        "taking bimch of numbers an, giving a single funciton as output std,over,sum"
      ],
      "metadata": {
        "id": "O-loWOomrS3z"
      }
    },
    {
      "cell_type": "code",
      "source": [
        "import numpy as np\n",
        "\n",
        "# Bir fonksiyon tanımlayalım\n",
        "def calculate_statistics(numbers):\n",
        "    std_dev = np.std(numbers)  # Standart sapma\n",
        "    mean_value = np.mean(numbers)  # Ortalama\n",
        "    sum_value = np.sum(numbers)  # Toplam\n",
        "\n",
        "    return std_dev, mean_value, sum_value\n",
        "\n",
        "\n",
        "user_input = input(\"Bir dizi sayı girin (virgülle ayrılmış): \")# Kullanıcıdan sayıları alalım\n",
        "\n",
        "numbers = list(map(float, user_input.split(',')))# Girişleri listeye dönüştürelim\n",
        "\n",
        "std_dev, mean_value, sum_value = calculate_statistics(numbers)# İstatistik hesaplamalarını yapalım\n",
        "\n",
        "print(f\"Standart Sapma: {std_dev}\")\n",
        "print(f\"Ortalama: {mean_value}\")\n",
        "print(f\"Toplam: {sum_value}\")\n"
      ],
      "metadata": {
        "colab": {
          "base_uri": "https://localhost:8080/"
        },
        "id": "YNws5-0-rTle",
        "outputId": "cfa44755-b803-4ac2-a41d-e8ba86e1c6ea"
      },
      "execution_count": null,
      "outputs": [
        {
          "output_type": "stream",
          "name": "stdout",
          "text": [
            "Bir dizi sayı girin (virgülle ayrılmış): 1,2,3,4,5\n",
            "Standart Sapma: 1.4142135623730951\n",
            "Ortalama: 3.0\n",
            "Toplam: 15.0\n"
          ]
        }
      ]
    },
    {
      "cell_type": "code",
      "source": [
        "import pandas as pd\n",
        "\n",
        "# İlk DataFrame: Ürün Bilgileri\n",
        "products = pd.DataFrame({\n",
        "    'ProductID': [1, 2, 3, 4, 5],\n",
        "    'ürünisimleri': ['Laptop', 'Telefon', 'Tablet', 'Monitor', 'Kulaklık'],\n",
        "    'Fiyat': [1200, 800, 300, 250, 100]\n",
        "})\n",
        "\n",
        "# İkinci DataFrame: Satış Bilgileri\n",
        "sales = pd.DataFrame({\n",
        "    'SaleID': [101, 102, 103, 104, 105],\n",
        "    'ProductID': [1, 2, 3, 4, 5],\n",
        "    'Satisadeti': [10, 40, 30, 15, 50]\n",
        "})\n",
        "\n",
        "\n",
        "merged_df = pd.merge(products, sales, on='ProductID') # DataFrame'leri 'ProductID' kolonuna göre birleştirelim\n",
        "\n",
        "\n",
        "dimensions = merged_df.shape # DataFrame'in boyutlarını alalım\n",
        "\n",
        "important_info = merged_df[['ürünisimleri', 'Fiyat', 'Satisadeti']]\n",
        "\n",
        "toplamharcama = merged_df['Fiyat'].sum()  # Fiyatların toplamı\n",
        "toplamsatismiktari = merged_df['Satisadeti'].sum()  # Satılan miktarların toplamı\n",
        "\n",
        "\n",
        "def add_vat(price):             # ürünlere zam yapalım\n",
        "    return price * 1.50\n",
        "\n",
        "merged_df['PriceWithVAT'] = merged_df['Fiyat'].apply(add_vat)\n",
        "\n",
        "print(\"İlk 3 satırı getirelim\")\n",
        "print(merged_df.head(3))\n",
        "\n",
        "print(\"Birleştirilmiş DataFrame:\")\n",
        "print(merged_df)\n",
        "\n",
        "print(\"\\nDataFrame Boyutları:\")\n",
        "print(dimensions)\n",
        "\n",
        "print(\"\\nÖnemli Bilgiler:\")\n",
        "print(important_info)\n",
        "\n",
        "print(\"\\nToplam Satılan Miktar:\")\n",
        "print(toplamsatismiktari)\n",
        "\n",
        "print(\"\\n%10 Zam Yapılmış Fiyatlar:\")\n",
        "print(merged_df[['ürünisimleri', 'PriceWithVAT']])"
      ],
      "metadata": {
        "colab": {
          "base_uri": "https://localhost:8080/"
        },
        "id": "tlx4ed7gmb3w",
        "outputId": "7d0d9f59-33e9-4154-b097-ffbc8b684b59"
      },
      "execution_count": null,
      "outputs": [
        {
          "output_type": "stream",
          "name": "stdout",
          "text": [
            "İlk 3 satırı getirelim\n",
            "   ProductID ürünisimleri  Fiyat  SaleID  Satisadeti  PriceWithVAT\n",
            "0          1       Laptop   1200     101          10        1800.0\n",
            "1          2      Telefon    800     102          40        1200.0\n",
            "2          3       Tablet    300     103          30         450.0\n",
            "Birleştirilmiş DataFrame:\n",
            "   ProductID ürünisimleri  Fiyat  SaleID  Satisadeti  PriceWithVAT\n",
            "0          1       Laptop   1200     101          10        1800.0\n",
            "1          2      Telefon    800     102          40        1200.0\n",
            "2          3       Tablet    300     103          30         450.0\n",
            "3          4      Monitor    250     104          15         375.0\n",
            "4          5     Kulaklık    100     105          50         150.0\n",
            "\n",
            "DataFrame Boyutları:\n",
            "(5, 5)\n",
            "\n",
            "Önemli Bilgiler:\n",
            "  ürünisimleri  Fiyat  Satisadeti\n",
            "0       Laptop   1200          10\n",
            "1      Telefon    800          40\n",
            "2       Tablet    300          30\n",
            "3      Monitor    250          15\n",
            "4     Kulaklık    100          50\n",
            "\n",
            "Toplam Satılan Miktar:\n",
            "145\n",
            "\n",
            "%10 Zam Yapılmış Fiyatlar:\n",
            "  ürünisimleri  PriceWithVAT\n",
            "0       Laptop        1800.0\n",
            "1      Telefon        1200.0\n",
            "2       Tablet         450.0\n",
            "3      Monitor         375.0\n",
            "4     Kulaklık         150.0\n"
          ]
        }
      ]
    },
    {
      "cell_type": "code",
      "source": [
        "# pivot table\n",
        "import pandas as pd\n",
        "\n",
        "# Örnek DataFrame: Satış Verisi\n",
        "data = {\n",
        "    'Ürünler': ['Laptop', 'Phone', 'Tablet', 'Laptop', 'Phone', 'Tablet', 'Monitor', 'Monitor'],\n",
        "    'Kategori': ['Electronics', 'Electronics', 'Electronics', 'Electronics', 'Electronics', 'Electronics', 'Accessories', 'Accessories'],\n",
        "    'Bölge': ['North', 'South', 'East', 'West', 'North', 'South', 'East', 'West'],\n",
        "    'Satis': [1200, 800, 300, 1500, 850, 350, 200, 400],\n",
        "    'Satismiktari': [10, 40, 30, 15, 50, 35, 20, 25]\n",
        "}\n",
        "\n",
        "\n",
        "df = pd.DataFrame(data)\n",
        "\n",
        "#  Bölge ve Kategoriye göre satışların toplamını ve ortalamasını hesaplayalım\n",
        "pivot_table = pd.pivot_table(df,\n",
        "                             values=['Satis', 'Satismiktari'],\n",
        "                             index=['Kategori', 'Bölge'],  # Gruplandırma için index\n",
        "                             aggfunc={'Satis': ['sum', 'mean'], 'Satismiktari': 'sum'})  # Toplam ve ortalama işlemleri\n",
        "\n",
        "print(\"Pivot Table:\")\n",
        "print(pivot_table)"
      ],
      "metadata": {
        "colab": {
          "base_uri": "https://localhost:8080/"
        },
        "id": "iFXKl2PfzLMq",
        "outputId": "88d24723-3f9f-49cc-fc0c-3c26caff015d"
      },
      "execution_count": null,
      "outputs": [
        {
          "output_type": "stream",
          "name": "stdout",
          "text": [
            "Pivot Table:\n",
            "                    Satis       Satismiktari\n",
            "                     mean   sum          sum\n",
            "Kategori    Bölge                           \n",
            "Accessories East    200.0   200           20\n",
            "            West    400.0   400           25\n",
            "Electronics East    300.0   300           30\n",
            "            North  1025.0  2050           60\n",
            "            South   575.0  1150           75\n",
            "            West   1500.0  1500           15\n"
          ]
        }
      ]
    },
    {
      "cell_type": "markdown",
      "source": [
        "Matplotlib"
      ],
      "metadata": {
        "id": "hj7vGyx3aVMQ"
      }
    },
    {
      "cell_type": "markdown",
      "source": [
        "                                                  \n",
        "                                                   \n",
        "                        P1"
      ],
      "metadata": {
        "id": "Uh7f2DKeb8J-"
      }
    },
    {
      "cell_type": "code",
      "source": [
        "import matplotlib.pyplot as plt\n",
        "import numpy as np\n",
        "\n",
        "# Veri oluşturma\n",
        "x = np.linspace(0, 10, 100)  # 0 ile 10 arasında 100 eşit aralıkta sayı\n",
        "y1 = np.sin(x)  # Sinüs fonksiyonu\n",
        "y2 = np.cos(x)  # Cosinüs fonksiyonu\n",
        "\n",
        "# Sin(x)\n",
        "plt.subplot(2, 1, 1)  # 2 satır, 1 sütun ve bu 1. grafik\n",
        "plt.plot(x, y1, color='blue', label='sin(x)') #renklendirme\n",
        "plt.xlabel('X Ekseni')  # X etiketi verelim\n",
        "plt.ylabel('Y Ekseni')  # Y etiketi verelim\n",
        "plt.title('Sinüs Fonksiyonu')  # Başlık\n",
        "\n",
        "\n",
        "#  Cos(x)\n",
        "plt.subplot(2, 1, 2)  # 2 satır, 1 sütun ve bu 2. grafik\n",
        "plt.plot(x, y2, color='red', label='cos(x)') #renklendirme\n",
        "plt.xlabel('X Ekseni')  # X etiketi\n",
        "plt.ylabel('Y Ekseni')  # Y etiketi\n",
        "plt.title('Cosinüs Fonksiyonu')  # Başlık\n",
        "\n",
        "\n",
        "# Grafikleri göster\n",
        "plt.tight_layout()  # Grafikleri sıkı yerleştir\n",
        "plt.show()"
      ],
      "metadata": {
        "colab": {
          "base_uri": "https://localhost:8080/",
          "height": 486
        },
        "id": "pFORHVg2aMA6",
        "outputId": "62edac30-1efb-4811-add8-c4892c761eb6"
      },
      "execution_count": null,
      "outputs": [
        {
          "output_type": "display_data",
          "data": {
            "text/plain": [
              "<Figure size 640x480 with 2 Axes>"
            ],
            "image/png": "[encoded data removed]"
          },
          "metadata": {}
        }
      ]
    },
    {
      "cell_type": "code",
      "source": [
        "import matplotlib.pyplot as plt\n",
        "import numpy as np\n",
        "\n",
        "x = np.linspace(0, 10, 100) # 0 ile 10 arasında 100 eşit aralıkta sayı\n",
        "y = np.sin(x)\n",
        "\n",
        "fig = plt.figure()\n",
        "\n",
        "ax = fig.add_axes([0.1, 0.1, 0.8, 0.8])  # Sol, alt, genişlik, yükseklik\n",
        "\n",
        "ax.plot(x, y, 'b', label='sin(x)')  # mavi renk  ile  grafiği\n",
        "ax.set_title(\"Sinüs Grafiği\")  # Başlık ekleme\n",
        "ax.set_xlabel(\"X Ekseni\")  # X ekseni etiketi\n",
        "ax.set_ylabel(\"Y Ekseni\")  # Y ekseni etiketi\n",
        "\n",
        "# Grafiği göster\n",
        "plt.show()"
      ],
      "metadata": {
        "colab": {
          "base_uri": "https://localhost:8080/",
          "height": 486
        },
        "id": "khENr_8mbv0u",
        "outputId": "cb0f18be-fe0b-461a-b1b0-29e18a77356e"
      },
      "execution_count": null,
      "outputs": [
        {
          "output_type": "display_data",
          "data": {
            "text/plain": [
              "<Figure size 640x480 with 1 Axes>"
            ],
            "image/png": "[encoded data removed]"
          },
          "metadata": {}
        }
      ]
    },
    {
      "cell_type": "markdown",
      "source": [
        "                                                  \n",
        "                                                   \n",
        "                      P2"
      ],
      "metadata": {
        "id": "0g1Al_fZdRTU"
      }
    },
    {
      "cell_type": "code",
      "source": [
        "import matplotlib.pyplot as plt\n",
        "import numpy as np\n",
        "\n",
        "x = np.linspace(0, 10, 100) # 0 ile 10 arasında 100 eşit aralıkta sayı\n",
        "y1 = np.sin(x)\n",
        "y2 = np.cos(x)\n",
        "\n",
        "fig, ax = plt.subplots()\n",
        "\n",
        "\n",
        "ax.plot(x, y1, label='sin(x)', color='blue')  # renklendirme mavi\n",
        "ax.plot(x, y2, label='cos(x)', color='red')   # renklendirme kırmızı\n",
        "\n",
        "\n",
        "ax.set_xlabel('X Ekseni')\n",
        "ax.set_ylabel('Y Ekseni')\n",
        "\n",
        "# Başlık ekleme\n",
        "ax.set_title('Sinüs ve Cosinüs Fonksiyonları')\n",
        "\n",
        "\n",
        "ax.legend(loc='upper right')  # konumlandırma sağ üst köşede\n",
        "\n",
        "# Grafiği kaydetme (savefig)\n",
        "plt.tight_layout()  # Layout'u düzenleyelim\n",
        "plt.savefig('sin_cos_graph.png', dpi=300)  # Grafiği .png formatında kaydet\n",
        "\n",
        "# Grafiği gösterme\n",
        "plt.show()"
      ],
      "metadata": {
        "colab": {
          "base_uri": "https://localhost:8080/",
          "height": 487
        },
        "id": "eXs8Ll6ac9fc",
        "outputId": "c8e181ff-0643-4550-ae23-9d8ad7fce5d3"
      },
      "execution_count": null,
      "outputs": [
        {
          "output_type": "display_data",
          "data": {
            "text/plain": [
              "<Figure size 640x480 with 1 Axes>"
            ],
            "image/png": "[encoded data removed]"
          },
          "metadata": {}
        }
      ]
    },
    {
      "cell_type": "markdown",
      "source": [
        "                                                  \n",
        "                                                   \n",
        "                              P3"
      ],
      "metadata": {
        "id": "LFDRpUdjiGtm"
      }
    },
    {
      "cell_type": "code",
      "source": [],
      "metadata": {
        "id": "C1m0dQMtiGWy"
      },
      "execution_count": null,
      "outputs": []
    }
  ],
  "metadata": {
    "colab": {
      "provenance": []
    },
    "kernelspec": {
      "display_name": "Python 3",
      "name": "python3"
    }
  },
  "nbformat": 4,
  "nbformat_minor": 0
}